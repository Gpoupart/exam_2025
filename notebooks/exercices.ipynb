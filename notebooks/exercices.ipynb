{
  "cells": [
    {
      "cell_type": "markdown",
      "metadata": {
        "id": "_CACBFsndOCo"
      },
      "source": [
        "# Exercices"
      ]
    },
    {
      "cell_type": "markdown",
      "source": [
        "## **Préliminaires**: Clone de votre repo et imports"
      ],
      "metadata": {
        "id": "hfkMtaHleKAa"
      }
    },
    {
      "cell_type": "code",
      "source": [
        "! git clone https://github.com/Gpoupart/exam_2025.git\n",
        "! cp exam_2025/utils/utils_exercices.py .\n",
        "\n",
        "import copy\n",
        "import numpy as np\n",
        "import torch"
      ],
      "metadata": {
        "id": "xiD_cI-geJjI",
        "colab": {
          "base_uri": "https://localhost:8080/"
        },
        "outputId": "df7dd45a-3344-4c40-8636-d6e220e626b0"
      },
      "execution_count": 2,
      "outputs": [
        {
          "output_type": "stream",
          "name": "stdout",
          "text": [
            "Cloning into 'exam_2025'...\n",
            "remote: Enumerating objects: 59, done.\u001b[K\n",
            "remote: Counting objects: 100% (59/59), done.\u001b[K\n",
            "remote: Compressing objects: 100% (51/51), done.\u001b[K\n",
            "remote: Total 59 (delta 21), reused 20 (delta 5), pack-reused 0 (from 0)\u001b[K\n",
            "Receiving objects: 100% (59/59), 1.41 MiB | 4.65 MiB/s, done.\n",
            "Resolving deltas: 100% (21/21), done.\n"
          ]
        }
      ]
    },
    {
      "cell_type": "markdown",
      "source": [
        "**Clef personnelle pour la partie théorique**\n",
        "\n",
        "Dans la cellule suivante, choisir un entier entre 100 et 1000 (il doit être personnel). Cet entier servira de graine au générateur de nombres aléatoire a conserver pour tous les exercices.\n",
        "\n"
      ],
      "metadata": {
        "id": "J3ga_6BNc5DR"
      }
    },
    {
      "cell_type": "code",
      "source": [
        "mySeed = 205"
      ],
      "metadata": {
        "id": "PrCTHM4od5UZ"
      },
      "execution_count": 3,
      "outputs": []
    },
    {
      "cell_type": "markdown",
      "source": [
        "\\\n",
        "\n",
        "---\n",
        "\n",
        "\\"
      ],
      "metadata": {
        "id": "TRWBLVpCWC06"
      }
    },
    {
      "cell_type": "markdown",
      "metadata": {
        "id": "t5RcggmAkJLV"
      },
      "source": [
        "\\\n",
        "\n",
        "**Exercice 1** *Une relation linéaire*\n",
        "\n",
        "La fonction *generate_dataset* fournit deux jeux de données (entraînement et test). Pour chaque jeu de données, la clef 'inputs' donne accès à un tableau numpy (numpy array) de prédicteurs empilés horizontalement : chaque ligne $i$ contient trois prédicteurs $x_i$, $y_i$ et $z_i$. La clef 'targets' renvoie le vecteur des cibles $t_i$. \\\n",
        "\n",
        "Les cibles sont liées aux prédicteurs par le modèle:\n",
        "$$ t = \\theta_0 + \\theta_1 x + \\theta_2 y + \\theta_3 z + \\epsilon$$ où $\\epsilon \\sim \\mathcal{N}(0,\\eta)$\n"
      ]
    },
    {
      "cell_type": "code",
      "source": [
        "from utils_exercices import generate_dataset, Dataset1\n",
        "train_set, test_set = generate_dataset(mySeed)"
      ],
      "metadata": {
        "id": "gEQmgTI8my8i"
      },
      "execution_count": 4,
      "outputs": []
    },
    {
      "cell_type": "markdown",
      "source": [
        "**Q1** Par quelle méthode simple peut-on estimer les coefficients $\\theta_k$ ? La mettre en oeuvre avec la librairie python de votre choix."
      ],
      "metadata": {
        "id": "q5XZTrXNk12K"
      }
    },
    {
      "cell_type": "markdown",
      "source": [
        "la méthode la plus simple est la régression linéaire ordinaire ou méthode des moindres carrés. Cette méthode cherche à minimiser la somme des carrés des erreurs entre les valeurs prédites et les valeurs réelles des cibles t."
      ],
      "metadata": {
        "id": "L0G-MyhCUCZP"
      }
    },
    {
      "cell_type": "code",
      "source": [
        "from sklearn.metrics import mean_squared_error\n",
        "from sklearn.linear_model import LinearRegression\n",
        "\n",
        "# Extraction des prédicteurs et cibles\n",
        "X_train = train_set['inputs']  # Prédicteurs d'entraînement\n",
        "y_train = train_set['targets']  # Cibles d'entraînement\n",
        "X_test = test_set['inputs']  # Prédicteurs de test\n",
        "y_test = test_set['targets']  # Cibles de test\n",
        "\n",
        "# Création et entraînement du modèle\n",
        "model = LinearRegression()\n",
        "model.fit(X_train, y_train)\n",
        "\n",
        "# Récupération des coefficients estimés\n",
        "theta_0 = model.intercept_\n",
        "theta_1, theta_2, theta_3 = model.coef_\n",
        "\n",
        "# Affichage des coefficients\n",
        "print(f\"Estimation des coefficients :\")\n",
        "print(f\"theta_0 = {theta_0:.4f}\")\n",
        "print(f\"theta_1 = {theta_1:.4f}\")\n",
        "print(f\"theta_2 = {theta_2:.4f}\")\n",
        "print(f\"theta_3 = {theta_3:.4f}\")\n",
        "\n",
        "# Évaluation sur le jeu de test\n",
        "y_pred = model.predict(X_test)\n",
        "mse_test = mean_squared_error(y_test, y_pred)\n",
        "print(f\"Erreur quadratique moyenne sur le jeu de test : {mse_test:.4f}\")\n"
      ],
      "metadata": {
        "id": "HITtUqHhFMkn",
        "colab": {
          "base_uri": "https://localhost:8080/"
        },
        "outputId": "9b49eaff-4385-4db5-f69d-3c3abf3e6083"
      },
      "execution_count": 5,
      "outputs": [
        {
          "output_type": "stream",
          "name": "stdout",
          "text": [
            "Estimation des coefficients :\n",
            "theta_0 = 10.2979\n",
            "theta_1 = 2.1091\n",
            "theta_2 = 2.0039\n",
            "theta_3 = 4.1245\n",
            "Erreur quadratique moyenne sur le jeu de test : 3.8136\n"
          ]
        }
      ]
    },
    {
      "cell_type": "markdown",
      "source": [],
      "metadata": {
        "id": "MXGXg8tlPULY"
      }
    },
    {
      "cell_type": "markdown",
      "source": [
        "**Q2** Dans les cellules suivantes, on se propose d'estimer les $\\theta_k$ grâce à un réseau de neurones entraîné par SGD. Quelle architecture s'y prête ? Justifier en termes d'expressivité et de performances en généralisation puis la coder dans la cellule suivante."
      ],
      "metadata": {
        "id": "CH_Z5ZEIlQPE"
      }
    },
    {
      "cell_type": "markdown",
      "source": [
        "Une seule couche linéaire (dense) sans fonction d'activation non linéaire, car la relation est linéaire.\n",
        "Cette couche aura une entrée de dimension 3 (pour les prédicteurs x, y, et z) et une sortie de dimension 1 (pour la cible t).\n",
        "\n",
        "Justification :\n",
        "\n",
        "Cette architecture a la même capacité d’expressivité que la régression linéaire ordinaire.\n",
        "Elle est suffisante pour capturer la structure des données et éviter un surajustement, tout en étant rapide à entraîner avec l’algorithme SGD (descente de gradient stochastique)."
      ],
      "metadata": {
        "id": "oGMysub3Vupu"
      }
    },
    {
      "cell_type": "code",
      "source": [
        "import torch.nn as nn\n",
        "\n",
        "# Dataset et dataloader :\n",
        "dataset = Dataset1(train_set['inputs'], train_set['targets'])\n",
        "dataloader = torch.utils.data.DataLoader(dataset, batch_size=100, shuffle=True)\n",
        "\n",
        "class SimpleNet(nn.Module):\n",
        "    def __init__(self):\n",
        "        super(SimpleNet, self).__init__()\n",
        "        self.linear = nn.Linear(3, 1)  # Couche linéaire avec 3 entrées (x, y, z) et 1 sortie (t)\n",
        "\n",
        "    def forward(self, x):\n",
        "        return self.linear(x)  # Pas de fonction d'activation pour rester linéaire"
      ],
      "metadata": {
        "id": "PPx543blnxdb"
      },
      "execution_count": 7,
      "outputs": []
    },
    {
      "cell_type": "markdown",
      "source": [
        "**Q3** Entraîner cette architecture à la tâche de régression définie par les entrées et sorties du jeu d'entraînement (compléter la cellule ci-dessous)."
      ],
      "metadata": {
        "id": "g6BSTBitpGBD"
      }
    },
    {
      "cell_type": "code",
      "source": [
        "# Initialize model, loss, and optimizer\n",
        "mySimpleNet = SimpleNet()\n",
        "criterion = nn.MSELoss()\n",
        "optimizer = torch.optim.SGD(mySimpleNet.parameters(), lr=0.01)\n",
        "\n",
        "# Training loop\n",
        "num_epochs = 500\n",
        "for epoch in range(num_epochs):\n",
        "    for batch_inputs, batch_targets in dataloader:\n",
        "\n",
        "        optimizer.zero_grad()\n",
        "        outputs = mySimpleNet(batch_inputs)\n",
        "        loss = criterion(outputs.squeeze(), batch_targets)\n",
        "        loss.backward()\n",
        "        optimizer.step()\n",
        "\n",
        "    if (epoch + 1) % 50 == 0:\n",
        "        print(f\"Époque [{epoch + 1}/{num_epochs}], Perte: {loss.item():.4f}\")"
      ],
      "metadata": {
        "id": "Wjfa2Z4RoPO-",
        "colab": {
          "base_uri": "https://localhost:8080/"
        },
        "outputId": "fab7f7c2-ad22-4395-aae4-615be4a21a23"
      },
      "execution_count": 8,
      "outputs": [
        {
          "output_type": "stream",
          "name": "stdout",
          "text": [
            "Époque [50/500], Perte: 4.1781\n",
            "Époque [100/500], Perte: 5.1251\n",
            "Époque [150/500], Perte: 3.9170\n",
            "Époque [200/500], Perte: 4.4401\n",
            "Époque [250/500], Perte: 4.6016\n",
            "Époque [300/500], Perte: 4.1645\n",
            "Époque [350/500], Perte: 3.8194\n",
            "Époque [400/500], Perte: 5.2983\n",
            "Époque [450/500], Perte: 3.3848\n",
            "Époque [500/500], Perte: 4.0985\n"
          ]
        }
      ]
    },
    {
      "cell_type": "markdown",
      "source": [
        "**Q4** Où sont alors stockées les estimations des  $\\theta_k$ ? Les extraire du réseau *mySimpleNet* dans la cellule suivante."
      ],
      "metadata": {
        "id": "OZwKogEEp2Fr"
      }
    },
    {
      "cell_type": "markdown",
      "source": [
        "On accède aux paramètres de la couche linéaire :\n",
        "\n",
        "Le biais représente θ0.\n",
        "\n",
        "Les poids représentent θ1, θ2 et θ3."
      ],
      "metadata": {
        "id": "9_yyU8TEXPck"
      }
    },
    {
      "cell_type": "code",
      "source": [
        "theta_0 = mySimpleNet.linear.bias.item()\n",
        "theta_1, theta_2, theta_3 = mySimpleNet.linear.weight[0].tolist()\n",
        "\n",
        "print(f\"Estimation des coefficients par le réseau de neurones :\")\n",
        "print(f\"theta_0 = {theta_0:.4f}\")\n",
        "print(f\"theta_1 = {theta_1:.4f}\")\n",
        "print(f\"theta_2 = {theta_2:.4f}\")\n",
        "print(f\"theta_3 = {theta_3:.4f}\")\n"
      ],
      "metadata": {
        "id": "EjgWp1y1rseb",
        "colab": {
          "base_uri": "https://localhost:8080/"
        },
        "outputId": "a809e616-2c25-4ee9-b410-33c379a59a3c"
      },
      "execution_count": 9,
      "outputs": [
        {
          "output_type": "stream",
          "name": "stdout",
          "text": [
            "Estimation des coefficients par le réseau de neurones :\n",
            "theta_0 = 10.2986\n",
            "theta_1 = 2.1087\n",
            "theta_2 = 2.0038\n",
            "theta_3 = 4.1247\n"
          ]
        }
      ]
    },
    {
      "cell_type": "markdown",
      "source": [
        "**Q5** Tester ces estimations sur le jeu de test et comparer avec celles de la question 1. Commentez."
      ],
      "metadata": {
        "id": "pEB-V-oOrJED"
      }
    },
    {
      "cell_type": "code",
      "source": [
        "from sklearn.metrics import mean_squared_error\n",
        "\n",
        "\n",
        "test_inputs = torch.tensor(test_set['inputs'], dtype=torch.float32)\n",
        "test_targets = torch.tensor(test_set['targets'], dtype=torch.float32)\n",
        "test_predictions = mySimpleNet(test_inputs).squeeze().detach().numpy()\n",
        "\n",
        "\n",
        "mse_nn = mean_squared_error(test_targets, test_predictions)\n",
        "print(f\"Erreur quadratique moyenne du réseau de neurones sur le jeu de test : {mse_nn:.4f}\")"
      ],
      "metadata": {
        "colab": {
          "base_uri": "https://localhost:8080/"
        },
        "id": "s-70hE0gYVI8",
        "outputId": "8b74a740-c169-4989-c374-43b9892e6489"
      },
      "execution_count": 13,
      "outputs": [
        {
          "output_type": "stream",
          "name": "stdout",
          "text": [
            "Erreur quadratique moyenne du réseau de neurones sur le jeu de test : 3.8137\n"
          ]
        }
      ]
    },
    {
      "cell_type": "markdown",
      "source": [
        "On obtient quasiment le même résultat ce qui était attendu car les méthodes modélisent la même relation linéaire."
      ],
      "metadata": {
        "id": "8SGC590RY-MT"
      }
    },
    {
      "cell_type": "markdown",
      "source": [
        "\\\n",
        "\n",
        "---\n",
        "\n",
        "\\"
      ],
      "metadata": {
        "id": "VvV2jIrBNtzf"
      }
    },
    {
      "cell_type": "markdown",
      "source": [
        "**Exercice 2** *Champ réceptif et prédiction causale*"
      ],
      "metadata": {
        "id": "CpRvXCaAtsIN"
      }
    },
    {
      "cell_type": "markdown",
      "source": [
        "Le réseau défini dans la cellule suivante est utilisé pour faire le lien entre les valeurs $(x_{t' \\leq t})$ d'une série temporelle d'entrée et la valeur présente $y_t$ d'une série temporelle cible."
      ],
      "metadata": {
        "id": "8JG9wTfK5TBd"
      }
    },
    {
      "cell_type": "code",
      "source": [
        "import torch.nn as nn\n",
        "import torch.nn.functional as F\n",
        "from utils_exercices import Outconv, Up_causal, Down_causal\n",
        "\n",
        "class Double_conv_causal(nn.Module):\n",
        "    '''(conv => BN => ReLU) * 2, with causal convolutions that preserve input size'''\n",
        "    def __init__(self, in_ch, out_ch, kernel_size=3, dilation=1):\n",
        "        super(Double_conv_causal, self).__init__()\n",
        "        self.kernel_size = kernel_size\n",
        "        self.dilation = dilation\n",
        "        self.conv1 = nn.Conv1d(in_ch, out_ch, kernel_size=kernel_size, padding=0, dilation=dilation)\n",
        "        self.bn1 = nn.BatchNorm1d(out_ch)\n",
        "        self.relu = nn.ReLU(inplace=True)\n",
        "        self.conv2 = nn.Conv1d(out_ch, out_ch, kernel_size=kernel_size, padding=0, dilation=dilation)\n",
        "        self.bn2 = nn.BatchNorm1d(out_ch)\n",
        "\n",
        "    def forward(self, x):\n",
        "        x = F.pad(x, ((self.kernel_size - 1) * self.dilation, 0))\n",
        "        x = self.conv1(x)\n",
        "        x = self.bn1(x)\n",
        "        x = self.relu(x)\n",
        "\n",
        "        x = F.pad(x, ((self.kernel_size - 1) * self.dilation, 0))\n",
        "        x = self.conv2(x)\n",
        "        x = self.bn2(x)\n",
        "        x = self.relu(x)\n",
        "        return x\n",
        "\n",
        "\n",
        "class causalFCN(nn.Module):\n",
        "    def __init__(self, dilation=1):\n",
        "        super(causalFCN, self).__init__()\n",
        "        size = 64\n",
        "        n_channels = 1\n",
        "        n_classes = 1\n",
        "        self.inc = Double_conv_causal(n_channels, size)\n",
        "        self.down1 = Down_causal(size, 2*size)\n",
        "        self.down2 = Down_causal(2*size, 4*size)\n",
        "        self.down3 = Down_causal(4*size, 8*size, pooling_kernel_size=5, pooling_stride=5)\n",
        "        self.down4 = Down_causal(8*size, 4*size, pooling=False, dilation=2)\n",
        "        self.up2 = Up_causal(4*size, 2*size, kernel_size=5, stride=5)\n",
        "        self.up3 = Up_causal(2*size, size)\n",
        "        self.up4 = Up_causal(size, size)\n",
        "        self.outc = Outconv(size, n_classes)\n",
        "        self.n_classes = n_classes\n",
        "\n",
        "    def forward(self, x):\n",
        "        x1 = self.inc(x)\n",
        "        x2 = self.down1(x1)\n",
        "        x3 = self.down2(x2)\n",
        "        x4 = self.down3(x3)\n",
        "        x5 = self.down4(x4)\n",
        "        x = self.up2(x5, x3)\n",
        "        x = self.up3(x, x2)\n",
        "        x = self.up4(x, x1)\n",
        "        x = self.outc(x)\n",
        "        return x\n",
        "\n",
        "# Exemple d'utilisation\n",
        "model = causalFCN()\n",
        "# Série temporelle d'entrée (x_t):\n",
        "input_tensor1 = torch.rand(1, 1, 10000)\n",
        "# Série temporelle en sortie f(x_t):\n",
        "output = model(input_tensor1)\n",
        "print(output.shape)"
      ],
      "metadata": {
        "id": "fIbU1EJT1MM9",
        "colab": {
          "base_uri": "https://localhost:8080/"
        },
        "outputId": "7742ef20-5e45-42b1-eb94-8186b5455c93"
      },
      "execution_count": 14,
      "outputs": [
        {
          "output_type": "stream",
          "name": "stdout",
          "text": [
            "torch.Size([1, 1, 10000])\n"
          ]
        }
      ]
    },
    {
      "cell_type": "markdown",
      "source": [
        "**Q1** De quel type de réseau de neurones s'agit-il ? Combien de paramètres la couche self.Down1 compte-t-elle (à faire à la main) ?\n",
        "Combien de paramètres le réseau entier compte-t-il (avec un peu de code) ?"
      ],
      "metadata": {
        "id": "-mNnsYU-7R7N"
      }
    },
    {
      "cell_type": "markdown",
      "source": [
        "Il s'agit d'un réseau de neurones convolutifs causaux.\n",
        "\n",
        "\n",
        "Nb de paramètres dans self.Down1: (calcul \"à la main\")\n",
        "\n",
        "conv1 : (canaux d’entree × canaux de sortie×taille du noyau)=64×128×3=24,576\n",
        "\n",
        "BN1=2×128=256\n",
        "\n",
        "conv2 : 128×128×3=49,152\n",
        "\n",
        "BN2 : 2×128=256\n",
        "\n",
        "Soit : 24,576(conv1)+256(BN1)+49,152(conv2)+256(BN2)=74,240\n"
      ],
      "metadata": {
        "id": "LIqxwF9Waqms"
      }
    },
    {
      "cell_type": "code",
      "source": [
        "def count_parameters(model):\n",
        "    return sum(p.numel() for p in model.parameters())\n",
        "\n",
        "total_params = count_parameters(model)\n",
        "print(f\"Le réseau entier contient {total_params:,} paramètres.\")\n"
      ],
      "metadata": {
        "colab": {
          "base_uri": "https://localhost:8080/"
        },
        "id": "tzoXoMWaekMz",
        "outputId": "1c27ee25-e964-4309-8476-8dc6cfa53d43"
      },
      "execution_count": 17,
      "outputs": [
        {
          "output_type": "stream",
          "name": "stdout",
          "text": [
            "Le réseau entier contient 2,872,641 paramètres.\n"
          ]
        }
      ]
    },
    {
      "cell_type": "markdown",
      "source": [
        "**Q2** Par quels mécanismes la taille du vecteur d'entrée est-elle réduite ? Comment est-elle restituée dans la deuxième partie du réseau ?"
      ],
      "metadata": {
        "id": "I4D46A0-8LaV"
      }
    },
    {
      "cell_type": "markdown",
      "source": [
        "Réduction de la taille :\n",
        "\n",
        "Max-pooling ou Average-pooling dans les couches de downsampling.\n",
        "\n",
        "Convolutions avec des strides supérieurs à 1 dans certaines couches.\n",
        "\n",
        "\n",
        "Restitution de la taille :\n",
        "\n",
        "Up-sampling dans les couches Up_causal.\n",
        "Fusion des caractéristiques via des connexions de saut entre les couches de downsampling et de up-sampling."
      ],
      "metadata": {
        "id": "_eZn8kdsfJIL"
      }
    },
    {
      "cell_type": "markdown",
      "source": [
        "**Q3** Par quels mécanismes le champ réceptif est-il augmenté ? Préciser par un calcul la taille du champ réceptif en sortie de *self.inc*."
      ],
      "metadata": {
        "id": "SVNeFnm88yV2"
      }
    },
    {
      "cell_type": "markdown",
      "source": [
        "Mécanismes pour augmenter le champ réceptif :\n",
        "\n",
        "1. Convolutions avec noyaux plus grands : Les noyaux de convolution étendent la zone d'entrée influençant chaque neurone de la sortie.\n",
        "\n",
        "2. Dilatation : La dilatation augmente le champ réceptif en espaçant les éléments du noyau, sans augmenter la taille de la sortie.\n",
        "\n",
        "3. Empilement de couches : Chaque couche supplémentaire augmente le champ réceptif global.\n",
        "\n",
        "4. Stride : Un stride > 1 réduit la taille de la sortie et augmente le champ réceptif.\n",
        "\n",
        "Calcul du champ réceptif en sortie de `self.inc` :\n",
        "\n",
        "- Première convolution : Taille du noyau = 3, donc le champ réceptif après `conv1` est 3.\n",
        "- Deuxième convolution : Taille du noyau = 3, donc le champ réceptif après `conv2` est 3.\n",
        "- On doit soustraire 1 car le dernier élément de la première fenêtre est déjà pris en compte dans la deuxième fenêtre.\n",
        "\n",
        "Le champ réceptif total est :\n",
        "\n",
        "3 + 3 - 1 = 5"
      ],
      "metadata": {
        "id": "i24f-2YOgBcA"
      }
    },
    {
      "cell_type": "markdown",
      "source": [
        "**Q4** Par un bout de code, déterminer empiriquement la taille du champ réceptif associé à la composante $y_{5000}$ du vecteur de sortie. (Indice: considérer les sorties associées à deux inputs qui ne diffèrent que par une composante...)"
      ],
      "metadata": {
        "id": "TVVcBPuA9EP0"
      }
    },
    {
      "cell_type": "code",
      "source": [
        "# Création d'un tensor d'entrée\n",
        "input_tensor = torch.rand(1, 1, 10000)  # Exemple d'entrée de taille (1, 1, 10000)\n",
        "output_tensor = model(input_tensor)  # Sortie du réseau\n",
        "\n",
        "# Perturbation d'une seule composante de l'entrée (par exemple, la composante à l'index 5000)\n",
        "input_tensor_perturbed = input_tensor.clone()\n",
        "input_tensor_perturbed[0, 0, 5000] += 1e-5  # Perturbation très petite\n",
        "\n",
        "# Passer l'entrée perturbée dans le modèle\n",
        "output_tensor_perturbed = model(input_tensor_perturbed)\n",
        "\n",
        "# Calcul de la différence dans la sortie pour la composante y5000\n",
        "output_diff = output_tensor_perturbed[0, 0, 5000] - output_tensor[0, 0, 5000]\n",
        "\n",
        "# Afficher la différence\n",
        "print(\"Différence dans la sortie pour y5000:\", output_diff.item())\n",
        "\n",
        "# Mesurer l'effet de cette perturbation sur les autres valeurs de la sortie\n",
        "# La taille du champ réceptif peut être déterminée par l'impact de cette perturbation\n"
      ],
      "metadata": {
        "id": "69WMWCSZAg5_",
        "colab": {
          "base_uri": "https://localhost:8080/"
        },
        "outputId": "5731f598-c31c-4370-a275-138ff071afd8"
      },
      "execution_count": 18,
      "outputs": [
        {
          "output_type": "stream",
          "name": "stdout",
          "text": [
            "Différence dans la sortie pour y5000: -1.9744038581848145e-06\n"
          ]
        }
      ]
    },
    {
      "cell_type": "markdown",
      "source": [
        "La petite différence dans la sortie signifie que la perturbation sur l'entrée à la position x5000 a légèrement affecté la sortie à la position y5000. Cette différence est très faible, ce qui indique que le champ réceptif de y5000 est relativement limité en termes de portée sur l'entrée."
      ],
      "metadata": {
        "id": "26OPTwylh4Io"
      }
    },
    {
      "cell_type": "markdown",
      "source": [
        "**Q5** $y_{5000}$ dépend-elle des composantes $x_{t, \\space t > 5000}$ ? Justifier de manière empirique puis préciser la partie du code de Double_conv_causal qui garantit cette propriété de \"causalité\" en justifiant.  \n",
        "\n"
      ],
      "metadata": {
        "id": "gZ37skwm-Vpv"
      }
    },
    {
      "cell_type": "markdown",
      "source": [
        "\\\n",
        "\n",
        "---\n",
        "\n",
        "\\"
      ],
      "metadata": {
        "id": "qV52tusgNn6A"
      }
    },
    {
      "cell_type": "markdown",
      "source": [
        "\\\n",
        "\n",
        "Exercice 3: \"Ranknet loss\""
      ],
      "metadata": {
        "id": "bm-sRzmfqc2m"
      }
    },
    {
      "cell_type": "markdown",
      "source": [
        "Un [article récent](https://https://arxiv.org/abs/2403.14144) revient sur les progrès en matière de learning to rank. En voilà un extrait :"
      ],
      "metadata": {
        "id": "Wl8wUjsSM57D"
      }
    },
    {
      "cell_type": "markdown",
      "source": [
        "\n",
        "<img src=\"https://raw.githubusercontent.com/nanopiero/exam_2025/refs/heads/main/utils/png_exercice3.PNG\" alt=\"extrait d'un article\" width=\"800\">"
      ],
      "metadata": {
        "id": "SDZUXMlSDpoe"
      }
    },
    {
      "cell_type": "markdown",
      "source": [
        "**Q1** Qu'est-ce que les auteurs appellent \"positive samples\" et \"negative samples\" ? Donner un exemple."
      ],
      "metadata": {
        "id": "9NzV1PbMNyuo"
      }
    },
    {
      "cell_type": "markdown",
      "source": [
        "**Q2** Dans l'expression de $\\mathcal{L}_{RankNet}$, d'où proviennent les $z_i$ ? Que représentent-ils ?  "
      ],
      "metadata": {
        "id": "yIKQ5Eo9OnPq"
      }
    },
    {
      "cell_type": "markdown",
      "source": [
        "**Q3** Pourquoi cette expression conduit-elle à ce que, après apprentissage, \"the estimated\n",
        "value of positive samples is greater than that of negative samples\n",
        "for each pair of positive/negative samples\" ?"
      ],
      "metadata": {
        "id": "r74fWiyvPb7Q"
      }
    },
    {
      "cell_type": "markdown",
      "source": [
        "**Q4** Dans le cadre d'une approche par deep learning, quels termes utilise-t-on pour qualifier les réseaux de neurones exploités et la modalité suivant laquelle ils sont entraînés ?"
      ],
      "metadata": {
        "id": "pk1EIi_VVi3R"
      }
    }
  ],
  "metadata": {
    "colab": {
      "provenance": []
    },
    "kernelspec": {
      "display_name": "Python 3",
      "name": "python3"
    }
  },
  "nbformat": 4,
  "nbformat_minor": 0
}